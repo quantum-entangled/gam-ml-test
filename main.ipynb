{
 "cells": [
  {
   "cell_type": "code",
   "execution_count": null,
   "metadata": {},
   "outputs": [],
   "source": [
    "from IPython.display import HTML, display\n",
    "\n",
    "display(HTML(\"<style>.jp-Cell { width: 60% !important; margin: 0 auto; }</style>\"))\n"
   ]
  },
  {
   "cell_type": "code",
   "execution_count": null,
   "metadata": {},
   "outputs": [],
   "source": [
    "import ipywidgets as iw\n",
    "\n",
    "import src\n",
    "from src.DataClasses import Data, Model\n",
    "from src.Managers import DataManager, ModelManager\n",
    "from src.UI.CustomWidgets.DataPreparation import (\n",
    "    DataStatsWidget,\n",
    "    DataGridWidget,\n",
    "    DataPlotWidget,\n",
    "    SelectInputColumnsWidget,\n",
    "    SelectOutputColumnsWidget,\n",
    "    SplitDataWidget,\n",
    ")\n",
    "from src.UI.CustomWidgets.ModelCompilation import (\n",
    "    CompileModel,\n",
    "    SelectLossesWidget,\n",
    "    SelectMetricsWidget,\n",
    "    SelectOptimizerWidget,\n",
    ")\n",
    "from src.UI.CustomWidgets.ModelConfiguration import (\n",
    "    CreateModelWidget,\n",
    "    ManageLayersWidget,\n",
    "    PlotModelWidget,\n",
    "    SaveModelWidget,\n",
    "    SetModelOutputsWidget,\n",
    "    ShowModelSummaryWidget,\n",
    ")\n",
    "from src.UI.CustomWidgets.ModelEvaluation import EvaluateModelWidget\n",
    "from src.UI.CustomWidgets.ModelPredictions import MakePredictionsWidget\n",
    "from src.UI.CustomWidgets.ModelTraining import (\n",
    "    PlotHistoryWidget,\n",
    "    SelectCallbacksWidget,\n",
    "    TrainModelWidget,\n",
    ")\n",
    "from src.UI.CustomWidgets.Uploaders import UploadFileWidget, UploadModelWidget\n"
   ]
  },
  {
   "cell_type": "code",
   "execution_count": null,
   "metadata": {},
   "outputs": [],
   "source": [
    "from IPython.display import Markdown as md\n",
    "from notebook import notebookapp\n",
    "from jupyter_server import serverapp\n",
    "\n",
    "try:\n",
    "    servers = list(serverapp.list_running_servers())[0]\n",
    "except IndexError:\n",
    "    servers = list(notebookapp.list_running_servers())[0]\n",
    "\n",
    "docs_link = f\"https://quantum-entangled.github.io/machine-learning-ui/index.html\"\n",
    "datasets_link = f\"{servers['base_url']}tree/db/Datasets\"\n",
    "models_link = f\"{servers['base_url']}tree/db/Models\"\n",
    "images_link = f\"{servers['base_url']}tree/db/Images\"\n",
    "logs_link = f\"{servers['base_url']}tree/db/Logs\"\n"
   ]
  },
  {
   "cell_type": "code",
   "execution_count": null,
   "metadata": {},
   "outputs": [],
   "source": [
    "data = Data()\n",
    "model = Model()\n",
    "data_manager = DataManager(data=data, model=model)\n",
    "model_manager = ModelManager(data=data, model=model)\n"
   ]
  },
  {
   "cell_type": "markdown",
   "metadata": {},
   "source": [
    "<h3 style=\"text-align: center;\"> Welcome to the app! </h3>"
   ]
  },
  {
   "cell_type": "code",
   "execution_count": null,
   "metadata": {},
   "outputs": [],
   "source": [
    "display(\n",
    "    md(\n",
    "        f\"Here you will find guides and documentation on how to use each section: <a href={docs_link} target='_blank'>Docs</a>.\"\n",
    "    )\n",
    ")\n",
    "display(\n",
    "    md(\n",
    "        f\"Here you can manage your data files for further use: <a href={datasets_link} target='_blank'>Datasets</a>.\"\n",
    "    )\n",
    ")\n",
    "display(\n",
    "    md(\n",
    "        f\"Here you can manage your models for further use: <a href={models_link} target='_blank'>Models</a>.\"\n",
    "    )\n",
    ")\n",
    "display(\n",
    "    md(\n",
    "        f\"Here you will find model images: <a href={images_link} target='_blank'>Images</a>.\"\n",
    "    )\n",
    ")\n",
    "display(\n",
    "    md(\n",
    "        f\"Here you will find callbacks files: <a href={logs_link} target='_blank'>Logs</a>.\"\n",
    "    )\n",
    ")\n"
   ]
  },
  {
   "cell_type": "markdown",
   "metadata": {},
   "source": [
    "<h1 style=\"text-align: center;\"> Upload </h1>"
   ]
  },
  {
   "cell_type": "code",
   "execution_count": null,
   "metadata": {},
   "outputs": [],
   "source": [
    "uploading = src.UI.WidgetUI(\n",
    "    widget=iw.Accordion,\n",
    "    widget_children=[UploadFileWidget, UploadModelWidget],\n",
    "    data_manager=data_manager,\n",
    "    model_manager=model_manager,\n",
    ")\n",
    "uploading.ui\n"
   ]
  },
  {
   "cell_type": "markdown",
   "metadata": {},
   "source": [
    "<h1 style=\"text-align: center;\"> Data Preparation </h1>"
   ]
  },
  {
   "cell_type": "code",
   "execution_count": null,
   "metadata": {},
   "outputs": [],
   "source": [
    "data_preparation = src.UI.WidgetUI(\n",
    "    widget=iw.Accordion,\n",
    "    widget_children=[\n",
    "        DataStatsWidget,\n",
    "        DataGridWidget,\n",
    "        DataPlotWidget,\n",
    "        SelectInputColumnsWidget,\n",
    "        SelectOutputColumnsWidget,\n",
    "        SplitDataWidget,\n",
    "    ],\n",
    "    data_manager=data_manager,\n",
    "    model_manager=model_manager,\n",
    ")\n",
    "data_preparation.ui\n"
   ]
  },
  {
   "cell_type": "markdown",
   "metadata": {},
   "source": [
    "<h1 style=\"text-align: center;\"> Model Configuration </h1>"
   ]
  },
  {
   "cell_type": "code",
   "execution_count": null,
   "metadata": {},
   "outputs": [],
   "source": [
    "model_configuration = src.UI.WidgetUI(\n",
    "    widget=iw.Accordion,\n",
    "    widget_children=[\n",
    "        CreateModelWidget,\n",
    "        ManageLayersWidget,\n",
    "        SetModelOutputsWidget,\n",
    "        ShowModelSummaryWidget,\n",
    "        PlotModelWidget,\n",
    "        SaveModelWidget,\n",
    "    ],\n",
    "    data_manager=data_manager,\n",
    "    model_manager=model_manager,\n",
    ")\n",
    "model_configuration.ui\n"
   ]
  },
  {
   "cell_type": "markdown",
   "metadata": {},
   "source": [
    "<h1 style=\"text-align: center;\"> Model Compilation </h1>"
   ]
  },
  {
   "cell_type": "code",
   "execution_count": null,
   "metadata": {},
   "outputs": [],
   "source": [
    "model_compilation = src.UI.WidgetUI(\n",
    "    widget=iw.Accordion,\n",
    "    widget_children=[\n",
    "        SelectOptimizerWidget,\n",
    "        SelectLossesWidget,\n",
    "        SelectMetricsWidget,\n",
    "        CompileModel,\n",
    "    ],\n",
    "    data_manager=data_manager,\n",
    "    model_manager=model_manager,\n",
    ")\n",
    "model_compilation.ui\n"
   ]
  },
  {
   "cell_type": "markdown",
   "metadata": {},
   "source": [
    "<h1 style=\"text-align: center;\"> Model Training </h1>"
   ]
  },
  {
   "cell_type": "code",
   "execution_count": null,
   "metadata": {},
   "outputs": [],
   "source": [
    "model_training = src.UI.WidgetUI(\n",
    "    widget=iw.Accordion,\n",
    "    widget_children=[\n",
    "        SelectCallbacksWidget,\n",
    "        TrainModelWidget,\n",
    "        PlotHistoryWidget,\n",
    "        SaveModelWidget,\n",
    "    ],\n",
    "    data_manager=data_manager,\n",
    "    model_manager=model_manager,\n",
    ")\n",
    "model_training.ui\n"
   ]
  },
  {
   "cell_type": "markdown",
   "metadata": {},
   "source": [
    "<h1 style=\"text-align: center;\"> Model Evaluation </h1>"
   ]
  },
  {
   "cell_type": "code",
   "execution_count": null,
   "metadata": {},
   "outputs": [],
   "source": [
    "model_evaluation = src.UI.WidgetUI(\n",
    "    widget=iw.Accordion,\n",
    "    widget_children=[SelectCallbacksWidget, EvaluateModelWidget],\n",
    "    data_manager=data_manager,\n",
    "    model_manager=model_manager,\n",
    ")\n",
    "model_evaluation.ui\n"
   ]
  },
  {
   "cell_type": "markdown",
   "metadata": {},
   "source": [
    "<h1 style=\"text-align: center;\"> Model Predictions </h1>"
   ]
  },
  {
   "cell_type": "code",
   "execution_count": null,
   "metadata": {},
   "outputs": [],
   "source": [
    "model_predictions = src.UI.WidgetUI(\n",
    "    widget=iw.Accordion,\n",
    "    widget_children=[SelectCallbacksWidget, MakePredictionsWidget],\n",
    "    data_manager=data_manager,\n",
    "    model_manager=model_manager,\n",
    ")\n",
    "model_predictions.ui\n"
   ]
  }
 ],
 "metadata": {
  "kernelspec": {
   "display_name": "Python 3 (ipykernel)",
   "language": "python",
   "name": "python3"
  },
  "language_info": {
   "codemirror_mode": {
    "name": "ipython",
    "version": 3
   },
   "file_extension": ".py",
   "mimetype": "text/x-python",
   "name": "python",
   "nbconvert_exporter": "python",
   "pygments_lexer": "ipython3",
   "version": "3.10.7"
  },
  "vscode": {
   "interpreter": {
    "hash": "9b4130f358c48dfdef80d28edbd8713f6e1780c813c7d0265c2873722844d924"
   }
  }
 },
 "nbformat": 4,
 "nbformat_minor": 4
}
